{
 "cells": [
  {
   "cell_type": "code",
   "execution_count": 2,
   "metadata": {},
   "outputs": [],
   "source": [
    "%load_ext autoreload\n",
    "%autoreload 2"
   ]
  },
  {
   "cell_type": "code",
   "execution_count": 3,
   "metadata": {},
   "outputs": [],
   "source": [
    "import json\n",
    "from datetime import datetime\n",
    "\n",
    "import matplotlib.pyplot as plt\n",
    "import pandas as pd\n",
    "import seaborn as sns\n",
    "import xgi\n",
    "\n",
    "from src import *"
   ]
  },
  {
   "cell_type": "code",
   "execution_count": null,
   "metadata": {},
   "outputs": [],
   "source": [
    "H = xgi.read_hif(\"data/SOMAR/deidentified_starterpack_hif.json\")"
   ]
  },
  {
   "cell_type": "code",
   "execution_count": 5,
   "metadata": {},
   "outputs": [
    {
     "data": {
      "text/plain": [
       "(1671681, 301322)"
      ]
     },
     "execution_count": 5,
     "metadata": {},
     "output_type": "execute_result"
    }
   ],
   "source": [
    "H.num_nodes, H.num_edges"
   ]
  },
  {
   "cell_type": "code",
   "execution_count": null,
   "metadata": {},
   "outputs": [],
   "source": [
    "def hypergraph_kcore(H):\n",
    "    \"\"\"\n",
    "    Computes the k-core decomposition of a hypergraph H.\n",
    "\n",
    "    Before processing, node labels and hyperedge IDs are converted to integer indices starting from zero.\n",
    "\n",
    "    Parameters:\n",
    "    H (xgi.Hypergraph): The input hypergraph.\n",
    "\n",
    "    Returns:\n",
    "    dict: A dictionary mapping original node labels to their core numbers.\n",
    "    \"\"\"\n",
    "    from collections import defaultdict\n",
    "    from tqdm import tqdm\n",
    "\n",
    "    original_nodes = list(H.nodes)\n",
    "    node_to_int = {node: idx for idx, node in enumerate(original_nodes)}\n",
    "    int_to_node = {idx: node for node, idx in node_to_int.items()}\n",
    "\n",
    "    original_edges = list(H.edges)\n",
    "    edge_to_int = {edge_id: idx for idx, edge_id in enumerate(original_edges)}\n",
    "\n",
    "    node_degrees = {}        # node_idx: degree\n",
    "    node_core = {}           # node_idx: core number\n",
    "    node_to_edges = defaultdict(set)  # node_idx: set of edge indices\n",
    "    edge_to_nodes = {}                 # edge_idx: set of node indices\n",
    "\n",
    "    for original_edge_id in H.edges:\n",
    "        edge_idx = edge_to_int[original_edge_id]\n",
    "        nodes_in_edge = set(node_to_int[node] for node in H.edges.members(original_edge_id))\n",
    "        edge_to_nodes[edge_idx] = nodes_in_edge.copy()\n",
    "        for node_idx in nodes_in_edge:\n",
    "            node_to_edges[node_idx].add(edge_idx)\n",
    "\n",
    "    for node_idx in node_to_int.values():\n",
    "        node_degrees[node_idx] = len(node_to_edges[node_idx])\n",
    "\n",
    "    if not node_degrees:\n",
    "        return {}\n",
    "\n",
    "\n",
    "    degree_buckets = defaultdict(set)\n",
    "    for node_idx, degree in node_degrees.items():\n",
    "        degree_buckets[degree].add(node_idx)\n",
    "\n",
    "    min_degree = min(degree_buckets.keys())\n",
    "    num_nodes_remaining = len(node_degrees)\n",
    "\n",
    "    pbar = tqdm(total=num_nodes_remaining, desc=\"Processing nodes\")\n",
    "\n",
    "    while num_nodes_remaining > 0:\n",
    "        while min_degree not in degree_buckets or not degree_buckets[min_degree]:\n",
    "            possible_degrees = [deg for deg in degree_buckets.keys() if degree_buckets[deg]]\n",
    "            if possible_degrees:\n",
    "                min_degree = min(possible_degrees)\n",
    "            else:\n",
    "                break  # All nodes have been processed\n",
    "\n",
    "        if min_degree not in degree_buckets or not degree_buckets[min_degree]:\n",
    "            break  # All nodes have been processed\n",
    "\n",
    "        # Remove a single node with minimal degree\n",
    "        node_idx = degree_buckets[min_degree].pop()\n",
    "        node_core[node_idx] = min_degree\n",
    "        num_nodes_remaining -= 1\n",
    "        pbar.update(1)\n",
    "\n",
    "        # Remove node from edges and update degrees\n",
    "        for edge_idx in list(node_to_edges[node_idx]):\n",
    "            edge_to_nodes[edge_idx].remove(node_idx)\n",
    "            if len(edge_to_nodes[edge_idx]) < 2:\n",
    "                # edge becomes invalid; remove it\n",
    "                for u in edge_to_nodes[edge_idx]:\n",
    "                    if edge_idx in node_to_edges[u]:\n",
    "                        node_to_edges[u].remove(edge_idx)\n",
    "                        old_degree = node_degrees[u]\n",
    "                        if old_degree > 0:\n",
    "                            degree_buckets[old_degree].discard(u)\n",
    "                        node_degrees[u] -= 1\n",
    "                        new_degree = node_degrees[u]\n",
    "                        degree_buckets[new_degree].add(u)\n",
    "                del edge_to_nodes[edge_idx]\n",
    "            else:\n",
    "                # edge is still valid; degrees remain unchanged\n",
    "                pass\n",
    "\n",
    "            node_to_edges[node_idx].remove(edge_idx)\n",
    "\n",
    "        # Clean up\n",
    "        del node_to_edges[node_idx]\n",
    "\n",
    "    pbar.close()\n",
    "\n",
    "    # map back to original node labels\n",
    "    core_numbers = {int_to_node[node_idx]: core_num for node_idx, core_num in node_core.items()}\n",
    "\n",
    "    return core_numbers"
   ]
  },
  {
   "cell_type": "code",
   "execution_count": null,
   "metadata": {},
   "outputs": [
    {
     "data": {
      "image/png": "[encoded data removed]",
      "text/plain": [
       "<Figure size 640x480 with 1 Axes>"
      ]
     },
     "metadata": {},
     "output_type": "display_data"
    }
   ],
   "source": [
    "import matplotlib.pyplot as plt\n",
    "import seaborn as sns\n",
    "import numpy as np\n",
    "\n",
    "core_numbers = hypergraph_kcore(H)\n",
    "\n",
    "for node, core in core_numbers.items():\n",
    "    H.nodes[node]['kcore'] = core\n",
    "\n",
    "kcore_values = [H.nodes[node]['kcore'] for node in H.nodes]\n",
    "\n",
    "kcore_values = [k for k in kcore_values if k > 0]\n",
    "\n",
    "min_core = min(kcore_values)\n",
    "max_core = max(kcore_values)\n",
    "\n",
    "bins = np.logspace(np.log10(min_core), np.log10(max_core), num=100)\n",
    "\n",
    "hist, bin_edges = np.histogram(kcore_values, bins=bins, density=True)\n",
    "\n",
    "bin_centers = np.sqrt(bin_edges[:-1] * bin_edges[1:])\n",
    "\n",
    "plt.loglog(bin_centers, hist, 'ko', markersize=2)\n",
    "\n",
    "plt.title(r\"$k$-Core Distribution\")\n",
    "plt.xlabel(r\"$k$\", fontsize=16)\n",
    "plt.ylabel(r\"$P(k)$\", fontsize=16)\n",
    "sns.despine()\n",
    "plt.tight_layout()\n",
    "\n",
    "plt.savefig(\"kcore_distribution.pdf\")\n",
    "\n",
    "plt.show()"
   ]
  }
 ],
 "metadata": {
  "kernelspec": {
   "display_name": "infl_max",
   "language": "python",
   "name": "python3"
  },
  "language_info": {
   "codemirror_mode": {
    "name": "ipython",
    "version": 3
   },
   "file_extension": ".py",
   "mimetype": "text/x-python",
   "name": "python",
   "nbconvert_exporter": "python",
   "pygments_lexer": "ipython3",
   "version": "3.10.16"
  }
 },
 "nbformat": 4,
 "nbformat_minor": 2
}
