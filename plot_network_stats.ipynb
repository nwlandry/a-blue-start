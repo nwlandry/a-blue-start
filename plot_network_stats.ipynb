{
 "cells": [
  {
   "cell_type": "code",
   "execution_count": null,
   "id": "204c0172-316d-47c9-a0bb-e60fe645f8d2",
   "metadata": {},
   "outputs": [],
   "source": [
    "import matplotlib.pyplot as plt\n",
    "import numpy as np\n",
    "import seaborn as sns\n",
    "\n",
    "import fig_settings as fs\n",
    "\n",
    "fs.set_fonts()"
   ]
  },
  {
   "cell_type": "code",
   "execution_count": null,
   "id": "7deed8bd",
   "metadata": {},
   "outputs": [],
   "source": [
    "colors = [\"#2d5d83\", \"#4f9bd9\", \"#077187\", \"#3dfaff\", \"#8b888e\"]"
   ]
  },
  {
   "cell_type": "code",
   "execution_count": null,
   "id": "13830dd1-20ca-4240-9322-c42f918275d6",
   "metadata": {},
   "outputs": [],
   "source": [
    "sccs = np.loadtxt(\"data/follows_sccs.csv.gz\", dtype=int)\n",
    "scc_sizes, scc_numbers = np.unique(sccs, return_counts=True)\n",
    "print(max(scc_sizes))\n",
    "\n",
    "wccs = np.loadtxt(\"data/follows_wccs.csv.gz\", dtype=int)\n",
    "wcc_sizes, wcc_numbers = np.unique(wccs, return_counts=True)\n",
    "print(max(wcc_sizes))"
   ]
  },
  {
   "cell_type": "code",
   "execution_count": null,
   "id": "2e8b9618",
   "metadata": {},
   "outputs": [],
   "source": [
    "in_degree = np.loadtxt(\"data/follows_in-degree.csv.gz\", dtype=int)\n",
    "print(f\"Min in-degree is \", in_degree.min())\n",
    "print(f\"Max in-degree is \", in_degree.max())\n",
    "print(f\"Mean in-degree is \", in_degree.mean())"
   ]
  },
  {
   "cell_type": "code",
   "execution_count": null,
   "id": "0f9679dc",
   "metadata": {},
   "outputs": [],
   "source": [
    "out_degree = np.loadtxt(\"data/follows_out-degree.csv.gz\", dtype=int)\n",
    "print(f\"Min out-degree is \", out_degree.min())\n",
    "print(f\"Max out-degree is \", out_degree.max())\n",
    "print(f\"Mean out-degree is \", out_degree.mean())"
   ]
  },
  {
   "cell_type": "code",
   "execution_count": null,
   "id": "409f0d18-c4bd-49ea-95f4-57e883886dd2",
   "metadata": {},
   "outputs": [],
   "source": [
    "# plot SCC size distribution\n",
    "plt.figure(figsize=(11, 4))\n",
    "plt.subplot(121)\n",
    "ax = plt.gca()\n",
    "plt.text(0.15, 0.9, \"(a)\", fontsize=20, transform=ax.transAxes)\n",
    "\n",
    "# get out-degree distribution plot\n",
    "hist, bin_edges = np.histogram(\n",
    "    out_degree,\n",
    "    bins=np.logspace(np.log10(out_degree.min()), np.log10(out_degree.max()), 100),\n",
    "    density=True,\n",
    ")\n",
    "hist /= hist.sum()\n",
    "\n",
    "bin_centers = [\n",
    "    (bin_edges[ix] + bin_edges[ix + 1]) / 2 for ix in range(len(bin_edges) - 1)\n",
    "]\n",
    "plt.plot(bin_centers, hist, \"o\", color=colors[0], markersize=5, label=\"in-degree\")\n",
    "plt.xscale(\"log\")\n",
    "plt.yscale(\"log\")\n",
    "\n",
    "hist, bin_edges = np.histogram(\n",
    "    in_degree,\n",
    "    bins=np.logspace(np.log10(in_degree.min()), np.log10(in_degree.max()), 100),\n",
    "    density=True,\n",
    ")\n",
    "hist /= hist.sum()\n",
    "\n",
    "bin_centers = [\n",
    "    (bin_edges[ix] + bin_edges[ix + 1]) / 2 for ix in range(len(bin_edges) - 1)\n",
    "]\n",
    "plt.plot(bin_centers, hist, \"^\", color=colors[1], markersize=5, label=\"out-degree\")\n",
    "plt.xscale(\"log\")\n",
    "plt.yscale(\"log\")\n",
    "\n",
    "plt.xlabel(r\"Degree, $d_f$\")\n",
    "plt.ylabel(r\"$P(d_f)$\")\n",
    "plt.legend()\n",
    "sns.despine()\n",
    "\n",
    "\n",
    "plt.subplot(122)\n",
    "ax = plt.gca()\n",
    "plt.text(0.15, 0.9, \"(b)\", fontsize=20, transform=ax.transAxes)\n",
    "\n",
    "plt.plot(scc_sizes, scc_numbers, \"o\", markersize=5, color=colors[0], label=\"Strongly connected\")\n",
    "plt.plot(wcc_sizes, wcc_numbers, \"^\", markersize=5, color=colors[1], label=\"Weakly connected\")\n",
    "plt.xscale(\"log\")\n",
    "plt.yscale(\"log\")\n",
    "plt.legend()\n",
    "sns.despine()\n",
    "plt.xlabel(r\"Component size, $c$\")\n",
    "plt.ylabel(\"Number\")\n",
    "\n",
    "plt.tight_layout()\n",
    "plt.savefig(\"figures/following_network_stats.pdf\", dpi=1000)"
   ]
  }
 ],
 "metadata": {
  "kernelspec": {
   "display_name": "py13",
   "language": "python",
   "name": "python3"
  },
  "language_info": {
   "codemirror_mode": {
    "name": "ipython",
    "version": 3
   },
   "file_extension": ".py",
   "mimetype": "text/x-python",
   "name": "python",
   "nbconvert_exporter": "python",
   "pygments_lexer": "ipython3",
   "version": "3.13.1"
  }
 },
 "nbformat": 4,
 "nbformat_minor": 5
}
