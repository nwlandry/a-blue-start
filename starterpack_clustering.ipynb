{
 "cells": [
  {
   "cell_type": "code",
   "execution_count": null,
   "metadata": {},
   "outputs": [],
   "source": [
    "%load_ext autoreload\n",
    "%autoreload 2"
   ]
  },
  {
   "cell_type": "code",
   "execution_count": null,
   "metadata": {},
   "outputs": [],
   "source": [
    "import json\n",
    "from datetime import datetime\n",
    "\n",
    "import matplotlib.pyplot as plt\n",
    "import pandas as pd\n",
    "import seaborn as sns\n",
    "import xgi\n",
    "\n",
    "from src import *"
   ]
  },
  {
   "cell_type": "code",
   "execution_count": null,
   "metadata": {},
   "outputs": [],
   "source": [
    "H = xgi.read_hif(\"data/SOMAR/deidentified_starterpack_hif.json\")"
   ]
  },
  {
   "cell_type": "code",
   "execution_count": null,
   "metadata": {},
   "outputs": [],
   "source": [
    "H.num_nodes, H.num_edges"
   ]
  },
  {
   "cell_type": "code",
   "execution_count": null,
   "metadata": {},
   "outputs": [],
   "source": [
    "import igraph as ig\n",
    "import leidenalg\n",
    "import matplotlib.pyplot as plt\n",
    "import numpy as np\n",
    "from itertools import combinations\n",
    "from tqdm import tqdm\n",
    "import gc\n",
    "\n",
    "print(\"Mapping nodes to unique integers...\")\n",
    "node_to_int = {node_id: idx for idx, node_id in enumerate(H.nodes)}\n",
    "int_to_node = {idx: node_id for node_id, idx in node_to_int.items()}\n",
    "\n",
    "num_nodes = len(node_to_int)\n",
    "\n",
    "clique_edges_set = set()\n",
    "\n",
    "print(\"Constructing the edge list for the clique expansion...\")\n",
    "\n",
    "for edge in tqdm(H.edges, desc=\"Processing hyperedges\", unit=\"edges\"):\n",
    "    nodes = [node_to_int[node_id] for node_id in H.edges.members(edge)]\n",
    "    if len(nodes) >= 2:\n",
    "        for u, v in combinations(nodes, 2):\n",
    "            clique_edges_set.add((min(u, v), max(u, v)))\n",
    "\n",
    "print(f\"Total number of edges in the clique expansion: {len(clique_edges_set)}\")\n",
    "\n",
    "print(\"Creating the igraph Graph...\")\n",
    "edge_list = list(clique_edges_set)\n",
    "del clique_edges_set\n",
    "gc.collect()\n",
    "\n",
    "G_ig = ig.Graph()\n",
    "G_ig.add_vertices(num_nodes)\n",
    "G_ig.add_edges(edge_list)\n",
    "\n",
    "del edge_list\n",
    "gc.collect()\n",
    "\n",
    "print(\"Running the Leiden algorithm for community detection...\")\n",
    "partition = leidenalg.find_partition(G_ig, leidenalg.ModularityVertexPartition, seed=0)\n",
    "\n",
    "del G_ig\n",
    "gc.collect()\n",
    "\n",
    "print(\"Mapping nodes to clusters...\")\n",
    "node_to_cluster = {idx: cluster for idx, cluster in enumerate(partition.membership)}\n",
    "\n",
    "del partition\n",
    "gc.collect()\n",
    "\n",
    "print(\"calculating uncut hyperedges per size...\")\n",
    "counts_per_size = {}\n",
    "not_cut_counts_per_size = {}\n",
    "\n",
    "for edge in tqdm(H.edges, desc=\"Evaluating hyperedges\", unit=\"edges\"):\n",
    "    nodes = [node_to_int[node_id] for node_id in H.edges.members(edge)]\n",
    "    clusters = set(node_to_cluster[node] for node in nodes)\n",
    "    size = len(nodes)\n",
    "    counts_per_size[size] = counts_per_size.get(size, 0) + 1\n",
    "    if len(clusters) == 1:\n",
    "        not_cut_counts_per_size[size] = not_cut_counts_per_size.get(size, 0) + 1\n",
    "\n",
    "del node_to_int\n",
    "del int_to_node\n",
    "gc.collect()\n",
    "\n",
    "sizes = sorted(counts_per_size.keys())\n",
    "fractions = [\n",
    "    not_cut_counts_per_size.get(size, 0) / counts_per_size[size]\n",
    "    for size in sizes\n",
    "]\n",
    "print('Done.')"
   ]
  },
  {
   "cell_type": "code",
   "execution_count": null,
   "metadata": {},
   "outputs": [],
   "source": [
    "plt.scatter(sizes[1:], fractions[1:])\n",
    "plt.xscale('log')\n",
    "plt.xlabel('Hyperedge Size', fontsize=14)\n",
    "plt.ylabel('Fraction of Hyperedges Not Cut', fontsize=14)\n",
    "plt.plot([8, 8], [0, 1], \"m--\", label=\"Minimum starter pack size\")\n",
    "plt.plot([150, 150], [0, 1], \"b--\", label=\"Maximum starter pack size\")\n",
    "plt.legend()\n",
    "sns.despine()\n",
    "\n",
    "plt.savefig(\"starterpack_fraction_not_cut.pdf\")"
   ]
  }
 ],
 "metadata": {
  "kernelspec": {
   "display_name": "infl_max",
   "language": "python",
   "name": "python3"
  },
  "language_info": {
   "codemirror_mode": {
    "name": "ipython",
    "version": 3
   },
   "file_extension": ".py",
   "mimetype": "text/x-python",
   "name": "python",
   "nbconvert_exporter": "python",
   "pygments_lexer": "ipython3",
   "version": "3.10.16"
  }
 },
 "nbformat": 4,
 "nbformat_minor": 2
}
